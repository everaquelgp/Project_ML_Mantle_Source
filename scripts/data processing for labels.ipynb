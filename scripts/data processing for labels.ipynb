{
 "cells": [
  {
   "cell_type": "code",
   "execution_count": 2,
   "id": "d549f615",
   "metadata": {},
   "outputs": [
    {
     "name": "stderr",
     "output_type": "stream",
     "text": [
      "C:\\Users\\garciaer\\AppData\\Local\\Temp\\ipykernel_11468\\3727968501.py:2: DtypeWarning: Columns (4,5,119,120) have mixed types. Specify dtype option on import or set low_memory=False.\n",
      "  data=pd.read_csv('../DataFP/dataOK.csv')\n"
     ]
    }
   ],
   "source": [
    "import pandas as pd\n",
    "data=pd.read_csv('../DataFP/dataOK.csv')\n",
    "import matplotlib.pyplot as plt"
   ]
  },
  {
   "cell_type": "code",
   "execution_count": 105,
   "id": "def36598",
   "metadata": {},
   "outputs": [
    {
     "name": "stdout",
     "output_type": "stream",
     "text": [
      "253992\n"
     ]
    }
   ],
   "source": [
    "#Checking size of my data\n",
    "#datasize= pd.read_csv(data, sep=\",\")\n",
    "#Print the first 5 rows of the dataOK\n",
    "print(len(data))"
   ]
  },
  {
   "cell_type": "code",
   "execution_count": 3,
   "id": "f088ef3c",
   "metadata": {},
   "outputs": [],
   "source": [
    "#Checking the content of my data file\n",
    "columns = list(data.columns)\n",
    "\n",
    "#Extracting just the data I will work on, menaning the values of Sr, Nd and Pb\n",
    "columnSrNd= ['sr87_sr86','nd143_nd144']\n",
    "dataSrNd= data[columnSrNd].dropna()\n",
    "dataSrNd.to_csv('../DataFP/dataSrNd.csv')\n",
    "\n",
    "columnPb= ['pb206_pb204','pb207_pb204']\n",
    "dataPb = data[columnPb].dropna()\n",
    "dataPb.to_csv('../DataFP/dataPb.csv')\n"
   ]
  },
  {
   "cell_type": "code",
   "execution_count": 45,
   "id": "8a1b61b0",
   "metadata": {},
   "outputs": [],
   "source": [
    "#Calculating the middle point of the End_members mantle source fields for labeling, values based on Winter's book, page 269, Table 5, Figure 8 and Figure 9. \n",
    "\n",
    "#middle point of the DM field in the 143Nd/144Nd versus 87Sr/86Sr plot\n",
    "Sr_DM = (0.7015 + 0.7025) / 2\n",
    "Nd_DM = (0.51325 + 0.5136) / 2\n",
    "mp_DM_SrNd= [Sr_DM, Nd_DM]\n",
    "\n",
    "#middle point of the DM field in the 207Pb/204Pb versus 206Pb/204Pb plot\n",
    "#Pb6_DM = (15.5+17.7) / 2\n",
    "#Pb7_DM = (15.35+15.45) / 2\n",
    "#mp_DM_Pb= [Pb6_DM, Pb7_DM]\n",
    "#________________________________________\n",
    "#middle point of the HIMU field in the 143Nd/144Nd versus 87Sr/86Sr plot\n",
    "Sr_HIMU = (0.7026+0.7032) / 2\n",
    "Nd_HIMU = (0.51285+0.51295) / 2\n",
    "mp_HIMU_SrNd= [Sr_HIMU, Nd_HIMU]\n",
    "\n",
    "#middle point of the HIMU field in the 207Pb/204Pb versus 206Pb/204Pb plot\n",
    "#Pb6_HIMU = (21.2+21.7) / 2\n",
    "#Pb7_HIMU = (15.8+15.9) / 2\n",
    "#mp_HIMU_Pb= [Pb6_HIMU, Pb7_HIMU]\n",
    "#________________________________________\n",
    "#middle point of the EMI field in the 143Nd/144Nd versus 87Sr/86Sr plot\n",
    "Sr_EMI = (0.7058+0.704) / 2\n",
    "Nd_EMI = (0.5123+0.5122) / 2\n",
    "mp_EMI_SrNd= [Sr_EMI, Nd_EMI]\n",
    "\n",
    "#middle point of the EMI field in the 207Pb/204Pb versus 206Pb/204Pb plot\n",
    "#Pb6_EMI = (16.5+17) / 2\n",
    "#Pb7_EMI = (15.46+15.52) / 2\n",
    "#mp_EMI_Pb= [Pb6_EMI, Pb7_EMI]\n",
    "#________________________________________\n",
    "#middle point of the EMII field in the 143Nd/144Nd versus 87Sr/86Sr plot\n",
    "\n",
    "#no EMII field in 143Nd/144Nd versus 87Sr/86Sr plot\n",
    "\n",
    "#middle point of the EMII field in the 207Pb/204Pb versus 206Pb/204Pb plot\n",
    "#Pb6_EMII = (18.70+19.30) / 2\n",
    "#Pb7_EMII = (15.77+15.70) / 2\n",
    "#mp_EMII_Pb= [Pb6_EMII, Pb7_EMII]\n",
    "#________________________________________\n",
    "#middle point of the BSE field in the 143Nd/144Nd versus 87Sr/86Sr plot\n",
    "Sr_BSE = (0.7045+0.705) / 2\n",
    "Nd_BSE = (0.51268+0.51258) / 2\n",
    "mp_BSE_SrNd= [Sr_BSE, Nd_BSE]\n",
    "\n",
    "#middle point of the BSE field in the 207Pb/204Pb versus 206Pb/204Pb plot\n",
    "#Pb6_BSE = (17.7+18.3) / 2\n",
    "#Pb7_BSE = (15.7+15.52) / 2\n",
    "#mp_BSE_Pb= [Pb6_BSE, Pb7_BSE]\n",
    "#________________________________________\n",
    "#middle point of the PREMA field in the 143Nd/144Nd versus 87Sr/86Sr plot\n",
    "Sr_PREMA = (0.7035+0.7034) / 2\n",
    "Nd_PREMA = (0.51295+0.51301) / 2\n",
    "mp_PREMA_SrNd= [Sr_PREMA, Nd_PREMA]\n",
    "\n",
    "#middle point of the PREMA field in the 207Pb/204Pb versus 206Pb/204Pb plot\n",
    "#Pb6_PREMA = (18.3+18.6) / 2\n",
    "#Pb7_PREMA = (15.5+15.45) / 2\n",
    "#mp_PREMA_Pb= [Pb6_PREMA, Pb7_PREMA]\n",
    "#_______________________________________\n",
    "ALLmpSrNd=[mp_DM_SrNd, mp_HIMU_SrNd, mp_EMI_SrNd, mp_BSE_SrNd, mp_PREMA_SrNd]\n",
    "\n",
    "#ALLmpPb=[mp_DM_Pb, mp_HIMU_Pb, mp_EMI_Pb, mp_BSE_Pb, mp_PREMA_Pb, mp_EMII_Pb]"
   ]
  },
  {
   "cell_type": "code",
   "execution_count": 46,
   "id": "d7758435",
   "metadata": {},
   "outputs": [
    {
     "name": "stdout",
     "output_type": "stream",
     "text": [
      "9         2\n",
      "12        2\n",
      "13        2\n",
      "34        2\n",
      "39        2\n",
      "         ..\n",
      "253977    1\n",
      "253978    1\n",
      "253979    1\n",
      "253980    1\n",
      "253981    1\n",
      "Name: labelSrNd, Length: 15921, dtype: int64\n",
      "15921\n"
     ]
    }
   ],
   "source": [
    "#Label my data based on the nearest end-member field. \n",
    "import pandas as pd\n",
    "import numpy as np\n",
    "\n",
    "#Label based on 143Nd/144Nd versus 87Sr/86Sr values\n",
    "\n",
    "#Euclidean distance between two points\n",
    "def distance(p1, p2):\n",
    "    p1 = p1.values.tolist()\n",
    "    p1[0] = float(p1[0])\n",
    "    p1[1] = float(p1[1])    \n",
    "    return np.sqrt((p1[0]-p2[0])**2 + (p1[1]-p2[1])**2)\n",
    "\n",
    "def weighted_distance(p1, p2, weight):\n",
    "    p1 = p1.values.tolist()\n",
    "    p1[0] = float(p1[0])\n",
    "    p1[1] = float(p1[1])    \n",
    "    return weight * np.sqrt((p1[0]-p2[0])**2 + (p1[1]-p2[1])**2)\n",
    "\n",
    "#Function to apply the distance function to each row of my data to label\n",
    "def find_nearest(row, centers, weighted=False):\n",
    "    if len(centers)==5:\n",
    "        weights = [10,3,8,3,1]\n",
    "        weights = [1/w for w in weights]\n",
    "        #print('SrNd')\n",
    "    elif len(centers)==6:\n",
    "        weights = [5,3,2,4,1,2]\n",
    "        weights = [1/w for w in weights]\n",
    "        #print(\"Pb\")\n",
    "    else:\n",
    "        raise ValueError(\"Error in find nearest\")\n",
    "    if weighted:\n",
    "        distances= [weighted_distance(row, p, w) for p,w in zip(centers, weights)] \n",
    "    else:\n",
    "        distances= [distance(row, p) for p in centers] \n",
    "    distances=np.array(distances)    \n",
    "    return distances.argmin()\n",
    "\n",
    "weighted = True\n",
    "\n",
    "if weighted:\n",
    "    #Apply the function to each row of my data to label\n",
    "    labelSrNd_w = dataSrNd.apply(lambda x: find_nearest(x, ALLmpSrNd, weighted=True), axis=1)\n",
    "    labelSrNd_w = labelSrNd_w.rename('labelSrNd')\n",
    "    labelSrNd_w.to_csv('../DataFP/labelSrNd_w.csv',index=True)\n",
    "\n",
    "else:\n",
    "    #Apply the function to each row of my data to label\n",
    "    labelSrNd = dataSrNd.apply(lambda x: find_nearest(x, ALLmpSrNd), axis=1)\n",
    "    labelSrNd = labelSrNd.rename('labelSrNd')\n",
    "    labelSrNd.to_csv('../DataFP/labelSrNd.csv',index=True)\n",
    "\n",
    "print(labelSrNd_w)\n",
    "print(len(labelSrNd_w))"
   ]
  },
  {
   "cell_type": "code",
   "execution_count": null,
   "id": "41c25823",
   "metadata": {},
   "outputs": [],
   "source": []
  },
  {
   "cell_type": "code",
   "execution_count": 47,
   "id": "f37408fa",
   "metadata": {},
   "outputs": [
    {
     "data": {
      "image/png": "[encoded data removed]",
      "text/plain": [
       "<Figure size 640x480 with 1 Axes>"
      ]
     },
     "metadata": {},
     "output_type": "display_data"
    },
    {
     "name": "stdout",
     "output_type": "stream",
     "text": [
      "Bin 0.0 - 0.8: 1671\n",
      "Bin 0.8 - 1.6: 2975\n",
      "Bin 1.6 - 2.4000000000000004: 8487\n",
      "Bin 2.4000000000000004 - 3.2: 595\n",
      "Bin 3.2 - 4.0: 2193\n"
     ]
    }
   ],
   "source": [
    "# Histogram of end-members mantle source based on 143Nd/144Nd versus 87Sr/86Sr values\n",
    "#5 mantle end-members (DM, HIMU, EMI, BSE, PREMA), no EMII\n",
    "labelSrNd_w.hist(bins=5)  \n",
    "plt.show()\n",
    "\n",
    "# Assuming you have a list or array of values named 'data'\n",
    "hist, bins = np.histogram(labelSrNd_w, bins=5)  # Compute histogram values\n",
    "\n",
    "# Print the frequency/count of each bin\n",
    "for i in range(len(hist)):\n",
    "    print(f\"Bin {bins[i]} - {bins[i+1]}: {hist[i]}\")\n",
    "\n",
    "#labelSrNd.hist(bins=5)\n",
    "#plt.show()\n"
   ]
  },
  {
   "cell_type": "code",
   "execution_count": null,
   "id": "a77bf50f",
   "metadata": {},
   "outputs": [],
   "source": [
    "#Label based on 207Pb/204Pb versus 206Pb/204Pb values\n",
    "\n",
    "#Function to apply the distance function to each row of my data to label\n",
    "#weighted = True\n",
    "#if weighted:\n",
    "    #Apply the function to each row of my data to label\n",
    "    #labelPb_w = dataPb.apply(lambda x: find_nearest(x, ALLmpPb, weighted=True), axis=1)\n",
    "    #labelPb_w = labelPb_w.rename('labelPb')\n",
    "    #labelPb_w.to_csv('../DataFP/labelPb_w.csv',index=False)\n",
    "\n",
    "#else:\n",
    "    #Apply the function created in Nd, Sr to each row of my data to label\n",
    "    #labelPb= dataPb.apply(lambda x: find_nearest(x, ALLmpPb), axis=1)\n",
    "    #labelPb= labelPb.rename('labelPb')\n",
    "    #labelPb.to_csv('../DataFP/labelPb.csv',index=False)\n"
   ]
  },
  {
   "cell_type": "code",
   "execution_count": null,
   "id": "9f9573f4",
   "metadata": {},
   "outputs": [],
   "source": [
    "# Histogram of end-members mantle source based on 207Pb/204Pb versus 206Pb/204Pb values\n",
    "#6 mantle end-members (DM, HIMU, EMI, BSE, PREMA, EMII)\n",
    "#labelPb_w.hist(bins=6)\n",
    "#plt.show()\n",
    "#print(len(labelPb_w))"
   ]
  },
  {
   "cell_type": "code",
   "execution_count": null,
   "id": "cbc2decd",
   "metadata": {},
   "outputs": [],
   "source": [
    "#Concatenation of all the data with labels based on Pb, Sr and Nd. \n",
    "\n",
    "#if weighted:\n",
    " #   labels_end_members_w=pd.concat([labelPb_w,labelSrNd_w],axis=1)\n",
    "  #  labels_end_members_w.to_csv('../DataFP/labels_end_members_w.csv')\n",
    "   # print(len(labels_end_members_w))\n",
    "#else:\n",
    " #   labels_end_members=pd.concat([labelPb,labelSrNd],axis=1)\n",
    "  #  labels_end_members.to_csv('../DataFP/labels_end_members.csv')\n",
    "   # print(len(labels_end_members))\n",
    "    \n",
    "\n",
    "#One data set where all the labels based on Pb, Sr and Nd tell the same mantle source end-member.\n",
    "#if weighted:\n",
    " #   same_mantle_source_w= labels_end_members_w.loc[labels_end_members_w['labelPb'] == labels_end_members_w['labelSrNd']]\n",
    "  #  print(len(same_mantle_source_w))\n",
    "   # same_mantle_source_w.to_csv('../DataFP/same_mantle_source_w.csv')\n",
    "#else:\n",
    " #   same_mantle_source= labels_end_members.loc[labels_end_members['labelPb'] == labels_end_members['labelSrNd']]\n",
    "  #  print(len(same_mantle_source))\n",
    "   # same_mantle_source.to_csv('../DataFP/same_mantle_source.csv')"
   ]
  },
  {
   "cell_type": "code",
   "execution_count": null,
   "id": "0e9dd037",
   "metadata": {},
   "outputs": [],
   "source": [
    "#same_mantle_source.hist(bins=5)  \n",
    "#plt.show()\n",
    "\n",
    "#same_mantle_source_w.hist(bins=5)  \n",
    "#plt.show()\n"
   ]
  },
  {
   "cell_type": "code",
   "execution_count": 48,
   "id": "1c34dc1d",
   "metadata": {},
   "outputs": [
    {
     "name": "stdout",
     "output_type": "stream",
     "text": [
      "['labelSrNd', 'sample_id', 'sample_name', 'latitude', 'longitude', 'qap_name', 'rock_type', 'rb87_sr86', 'rb87_sr87', 'sr87_sr86', 'nd143_nd144', 'sm147_nd144', 'pb206_pb204', 'pb207_pb204', 'pb208_pb204', 'u238_pb204', 'sio2', 'tio2', 'al2o3', 'cr2o3', 'fe2o3', 'fe2o3_tot', 'feo', 'feo_tot', 'mgo', 'cao', 'mno', 'nio', 'k2o', 'na2o', 'sro', 'p2o5', 'h2o_plus', 'h2o_minus', 'h2o_tot', 'co2', 'so3', 'bao', 'caco3', 'mgco3', 'loi', 'f_ppm', 'cl_ppm', 'br_ppm', 'i_ppm', 'h_ppm', 'c_ppm', 'n_ppm', 'p_ppm', 's_ppm', 'al_ppm', 'as_ppm', 'ag_ppm', 'au_ppm', 'b_ppm', 'ba_ppm', 'be_ppm', 'bi_ppm', 'ca_ppm', 'cd_ppm', 'ce_ppm', 'co_ppm', 'cr_ppm', 'cs_ppm', 'cu_ppm', 'dy_ppm', 'er_ppm', 'eu_ppm', 'fe_ppm', 'ga_ppm', 'gd_ppm', 'ge_ppm', 'hf_ppm', 'hg_ppm', 'ho_ppm', 'in_ppm', 'ir_ppm', 'k_ppm', 'la_ppm', 'li_ppm', 'lu_ppm', 'mg_ppm', 'mn_ppm', 'mo_ppm', 'na_ppm', 'nd_ppm', 'ni_ppm', 'nb_ppm', 'os_ppm', 'pa_ppm', 'pb_ppm', 'pd_ppm', 'pm_ppm', 'pr_ppm', 'pt_ppm', 'rb_ppm', 're_ppm', 'rh_ppm', 'ru_ppm', 'sb_ppm', 'sc_ppm', 'se_ppm', 'si_ppm', 'sm_ppm', 'sn_ppm', 'sr_ppm', 'ta_ppm', 'tb_ppm', 'te_ppm', 'th_ppm', 'ti_ppm', 'tl_ppm', 'tm_ppm', 'w_ppm', 'v_ppm', 'u_ppm', 'y_ppm', 'yb_ppm', 'zn_ppm', 'zr_ppm', 'rock_group', 'rock_origin']\n"
     ]
    }
   ],
   "source": [
    "labeled_mantle_source=pd.merge(labelSrNd_w,data,left_index=True, right_index=True)\n",
    "#print(labeled_mantle_source)\n",
    "#print(len(labeled_mantle_source))\n",
    "labeled_mantle_source.to_csv('../DataFP/labeled_mantle_source.csv',index=False)\n",
    "columns_labeled_mantle_source=list(labeled_mantle_source.columns)\n",
    "print(columns_labeled_mantle_source)"
   ]
  },
  {
   "cell_type": "code",
   "execution_count": 53,
   "id": "98e31993",
   "metadata": {},
   "outputs": [
    {
     "name": "stdout",
     "output_type": "stream",
     "text": [
      "['labelSrNd', 'latitude', 'longitude', 'rb87_sr86', 'rb87_sr87', 'sr87_sr86', 'nd143_nd144', 'sm147_nd144', 'pb206_pb204', 'pb207_pb204', 'pb208_pb204', 'u238_pb204', 'sio2', 'tio2', 'al2o3', 'cr2o3', 'fe2o3', 'fe2o3_tot', 'feo', 'feo_tot', 'mgo', 'cao', 'mno', 'nio', 'k2o', 'na2o', 'sro', 'p2o5', 'h2o_plus', 'h2o_minus', 'h2o_tot', 'co2', 'so3', 'bao', 'caco3', 'mgco3', 'loi', 'f_ppm', 'cl_ppm', 'br_ppm', 'i_ppm', 'h_ppm', 'c_ppm', 'n_ppm', 'p_ppm', 's_ppm', 'al_ppm', 'as_ppm', 'ag_ppm', 'au_ppm', 'b_ppm', 'ba_ppm', 'be_ppm', 'bi_ppm', 'ca_ppm', 'cd_ppm', 'ce_ppm', 'co_ppm', 'cr_ppm', 'cs_ppm', 'cu_ppm', 'dy_ppm', 'er_ppm', 'eu_ppm', 'fe_ppm', 'ga_ppm', 'gd_ppm', 'ge_ppm', 'hf_ppm', 'hg_ppm', 'ho_ppm', 'in_ppm', 'ir_ppm', 'k_ppm', 'la_ppm', 'li_ppm', 'lu_ppm', 'mg_ppm', 'mn_ppm', 'mo_ppm', 'na_ppm', 'nd_ppm', 'ni_ppm', 'nb_ppm', 'os_ppm', 'pa_ppm', 'pb_ppm', 'pd_ppm', 'pm_ppm', 'pr_ppm', 'pt_ppm', 'rb_ppm', 're_ppm', 'rh_ppm', 'ru_ppm', 'sb_ppm', 'sc_ppm', 'se_ppm', 'si_ppm', 'sm_ppm', 'sn_ppm', 'sr_ppm', 'ta_ppm', 'tb_ppm', 'te_ppm', 'th_ppm', 'ti_ppm', 'tl_ppm', 'tm_ppm', 'w_ppm', 'v_ppm', 'u_ppm', 'y_ppm', 'yb_ppm', 'zn_ppm', 'zr_ppm']\n",
      "116\n"
     ]
    }
   ],
   "source": [
    "labeled_MS=labeled_mantle_source.drop(columns=['sample_id', 'sample_name','qap_name', 'rock_type','rock_group', 'rock_origin' ])\n",
    "columns_labeled_MS=list(labeled_MS.columns)\n",
    "print(columns_labeled_MS)\n",
    "num_col_labeled_MS=labeled_MS.shape[1]\n",
    "print(num_col_labeled_MS)\n"
   ]
  },
  {
   "cell_type": "code",
   "execution_count": 54,
   "id": "715c7ebc",
   "metadata": {},
   "outputs": [
    {
     "name": "stdout",
     "output_type": "stream",
     "text": [
      "56\n",
      "['labelSrNd', 'latitude', 'longitude', 'rb87_sr86', 'sr87_sr86', 'nd143_nd144', 'sm147_nd144', 'pb206_pb204', 'pb207_pb204', 'pb208_pb204', 'sio2', 'tio2', 'al2o3', 'fe2o3', 'fe2o3_tot', 'mgo', 'cao', 'mno', 'k2o', 'na2o', 'p2o5', 'loi', 'ba_ppm', 'ce_ppm', 'co_ppm', 'cr_ppm', 'cs_ppm', 'cu_ppm', 'dy_ppm', 'er_ppm', 'eu_ppm', 'ga_ppm', 'gd_ppm', 'hf_ppm', 'ho_ppm', 'la_ppm', 'lu_ppm', 'nd_ppm', 'ni_ppm', 'nb_ppm', 'pb_ppm', 'pr_ppm', 'rb_ppm', 'sc_ppm', 'sm_ppm', 'sr_ppm', 'ta_ppm', 'tb_ppm', 'th_ppm', 'tm_ppm', 'v_ppm', 'u_ppm', 'y_ppm', 'yb_ppm', 'zn_ppm', 'zr_ppm']\n"
     ]
    }
   ],
   "source": [
    "# Calculate the percentage of NaN values in each column\n",
    "#nan_percentage = labeled_MS.isna().mean() * 100\n",
    "\n",
    "# Drop columns with more than x% NaN values\n",
    "threshold = 80  # Will erase the column if more than the x% of the calues are NaN (no data)\n",
    "final_data = labeled_MS.dropna(thresh=len(labeled_MS) - threshold/100*len(labeled_MS), axis=1)\n",
    "num_col_final_data=final_data.shape[1]\n",
    "print(num_col_final_data)\n",
    "columns_final_data=list(final_data.columns)\n",
    "print(columns_final_data)\n",
    "\n",
    "\n",
    "# Print the resulting dataframe\n",
    "#final_data=final_data.drop(columns=['sample_id','sample_name'])\n",
    "final_data.to_csv('../DataFP/final_data.csv',index=False)\n",
    "\n"
   ]
  },
  {
   "attachments": {},
   "cell_type": "markdown",
   "id": "fa7109c4",
   "metadata": {},
   "source": []
  },
  {
   "cell_type": "code",
   "execution_count": 35,
   "id": "eb0b72d7",
   "metadata": {},
   "outputs": [],
   "source": [
    "#How my data is behaving (normal distribution?) in order to normalize my data later on for my ML model\n",
    "#normalized_final_data = (final_data - final_data.min()) / (final_data.max() - final_data.min())\n",
    "#normalized_final_data.plot.hist(subplots=True, layout=(7,4), figsize=(15,15), xlim=(-1,1), bins=50)\n",
    "#Result show a normal distribution"
   ]
  }
 ],
 "metadata": {
  "kernelspec": {
   "display_name": "Python 3 (ipykernel)",
   "language": "python",
   "name": "python3"
  },
  "language_info": {
   "codemirror_mode": {
    "name": "ipython",
    "version": 3
   },
   "file_extension": ".py",
   "mimetype": "text/x-python",
   "name": "python",
   "nbconvert_exporter": "python",
   "pygments_lexer": "ipython3",
   "version": "3.8.10"
  }
 },
 "nbformat": 4,
 "nbformat_minor": 5
}
